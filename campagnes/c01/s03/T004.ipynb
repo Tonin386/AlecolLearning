{
 "cells": [
  {
   "cell_type": "markdown",
   "id": "67d83702",
   "metadata": {},
   "source": [
    "# Hypothèse :\n",
    "### Retirer les questions qui apportent le moins d'informations quant au score final améliore la qualité du modèle à un paramètre"
   ]
  },
  {
   "cell_type": "code",
   "execution_count": 2,
   "id": "6fe6ab39",
   "metadata": {},
   "outputs": [],
   "source": [
    "library(ltm)"
   ]
  },
  {
   "cell_type": "code",
   "execution_count": 3,
   "id": "049bda33",
   "metadata": {},
   "outputs": [],
   "source": [
    "reponses <- read.csv2(\"../../../R/data/qcm_2_3_4_5_6_7_8_9_10_11_12_13_14_15_16_17_18_19_20_21_22_23_24.csv\")\n",
    "baseIndex = c(2,3,4,5,6,7,8,9,10,11,12,13,14,15,16,17,18,19,20,21,22,23,24)"
   ]
  },
  {
   "cell_type": "code",
   "execution_count": 8,
   "id": "61f333f6",
   "metadata": {},
   "outputs": [
    {
     "data": {
      "text/plain": [
       "\n",
       "Bootstrap Goodness-of-Fit using Pearson chi-squared\n",
       "\n",
       "Call:\n",
       "rasch(data = reponses, IRT.param = TRUE)\n",
       "\n",
       "Tobs: 25538183 \n",
       "# data-sets: 50 \n",
       "p-value: 0.02 \n"
      ]
     },
     "metadata": {},
     "output_type": "display_data"
    }
   ],
   "source": [
    "IRT_1pl <- rasch(reponses,IRT.param=TRUE)\n",
    "GoF.rasch(IRT_1pl)"
   ]
  },
  {
   "cell_type": "markdown",
   "id": "845eff1f",
   "metadata": {},
   "source": [
    "### Résultats de la fonction GoF.rasch()\n",
    "On voit que l'on obtient p.value < 0.05 ce qui nous indique que notre modèle n'est pas précis.\n",
    "On va donc voir si on peut affiner les résultats en triant les questions.\n",
    "On décide de ne garder que les questions où le point bisérial de corrélation est supérieur aux 2/3 de la valeur moyenne."
   ]
  },
  {
   "cell_type": "code",
   "execution_count": 5,
   "id": "a75958a7",
   "metadata": {},
   "outputs": [
    {
     "name": "stderr",
     "output_type": "stream",
     "text": [
      "Moyenne des données : 0.327890\n",
      "Qui.sont.les.Néréides..: 0.183114 est trop faible\n",
      "Qui.est.le.dieu.de.la.mer..: 0.157608 est trop faible\n",
      "Qui.sont.les.Perséides..: 0.177931 est trop faible\n",
      "Que.sont.Charybde.et.Sylla..: 0.116216 est trop faible\n",
      "Voici les index que vous devriez garder : \n"
     ]
    },
    {
     "name": "stdout",
     "output_type": "stream",
     "text": [
      " [1]  2  3  4  5  6  8  9 11 12 13 14 15 16 17 18 20 21 23 24\n"
     ]
    }
   ],
   "source": [
    "dsc <- descript(reponses)\n",
    "count <- 1\n",
    "idxToKeep = c()\n",
    "message(sprintf(\"Moyenne des données : %f\", mean(dsc$ExBisCorr)))\n",
    "for(i in names(reponses)) {\n",
    "    if(dsc$ExBisCorr[count] < mean(dsc$ExBisCorr) * 2/3) {\n",
    "        message(sprintf(\"%s: %f est trop faible\", i, dsc$ExBisCorr[count]))\n",
    "    }\n",
    "    else {\n",
    "        idxToKeep = append(idxToKeep, baseIndex[count])\n",
    "    }\n",
    "    count <- count + 1\n",
    "}\n",
    "message(\"Voici les index que vous devriez garder : \")\n",
    "print(idxToKeep)"
   ]
  },
  {
   "cell_type": "markdown",
   "id": "fef86196",
   "metadata": {},
   "source": [
    "### Interprétation\n",
    "Dans la cellule précédente on obtient une liste de questions à conserver pour la suite du test. On utilise le fichier \"script.py\" pour créer le fichier : \"qcm_2_3_4_5_6_8_9_11_12_13_14_15_16_17_18_20_21_23_24.csv\" qui contient le nouveau jeu de questions du test."
   ]
  },
  {
   "cell_type": "code",
   "execution_count": 6,
   "id": "1dc35cb4",
   "metadata": {},
   "outputs": [],
   "source": [
    "reponses2 <- read.csv2(\"../../../R/data/qcm_2_3_4_5_6_8_9_11_12_13_14_15_16_17_18_20_21_23_24.csv\")"
   ]
  },
  {
   "cell_type": "code",
   "execution_count": 9,
   "id": "4beb4b00",
   "metadata": {},
   "outputs": [
    {
     "data": {
      "text/plain": [
       "\n",
       "Bootstrap Goodness-of-Fit using Pearson chi-squared\n",
       "\n",
       "Call:\n",
       "rasch(data = reponses2, IRT.param = TRUE)\n",
       "\n",
       "Tobs: 1420311 \n",
       "# data-sets: 50 \n",
       "p-value: 0.04 \n"
      ]
     },
     "metadata": {},
     "output_type": "display_data"
    }
   ],
   "source": [
    "IRT_1pl2 <- rasch(reponses2,IRT.param=TRUE)\n",
    "GoF.rasch(IRT_1pl2)"
   ]
  },
  {
   "cell_type": "markdown",
   "id": "d39f3c85",
   "metadata": {},
   "source": [
    "# Résultats du test\n",
    "On voit que l'on obtient p-value < 0.5, ce qui nous indique que notre modèle n'est toujours pas suffisament précis.\n",
    "Cela contredit l'hypothèse que l'analyse du test est meilleure si l'on supprime les questions avec un point bisérial de corrélation inférieur au 2/3 de la moyenne de l'échantillon.\n",
    "\n",
    "## HYPOTHESE INITIALE INVALIDEE"
   ]
  }
 ],
 "metadata": {
  "kernelspec": {
   "display_name": "R",
   "language": "R",
   "name": "ir"
  },
  "language_info": {
   "codemirror_mode": "r",
   "file_extension": ".r",
   "mimetype": "text/x-r-source",
   "name": "R",
   "pygments_lexer": "r",
   "version": "3.6.1"
  }
 },
 "nbformat": 4,
 "nbformat_minor": 5
}
