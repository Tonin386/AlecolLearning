{
 "cells": [
  {
   "cell_type": "code",
   "execution_count": 2,
   "id": "09245d6e",
   "metadata": {},
   "outputs": [],
   "source": [
    "library(ltm)"
   ]
  },
  {
   "cell_type": "code",
   "execution_count": 46,
   "id": "5a0a5215",
   "metadata": {},
   "outputs": [],
   "source": [
    "reponses <- read.csv2(\"../../../R/data/qcm_2_3_4_5_6_7_8_9_10_11_12_13_14_15_16_17_18_19_20_21_22_23_24.csv\")\n",
    "baseIndex = c(2,4,5,6,7,8,11,12,13,14,15,16,17,19,20,22,23,24)"
   ]
  },
  {
   "cell_type": "code",
   "execution_count": 57,
   "id": "c66297a3",
   "metadata": {},
   "outputs": [
    {
     "data": {
      "text/plain": [
       "\n",
       "Bootstrap Goodness-of-Fit using Pearson chi-squared\n",
       "\n",
       "Call:\n",
       "rasch(data = reponses, start.val = \"random\")\n",
       "\n",
       "Tobs: 175206.9 \n",
       "# data-sets: 50 \n",
       "p-value: 0.94 \n"
      ]
     },
     "metadata": {},
     "output_type": "display_data"
    }
   ],
   "source": [
    "IRT_1pl <- rasch(reponses,start.val=\"random\")\n",
    "GoF.rasch(IRT_1pl)"
   ]
  },
  {
   "cell_type": "code",
   "execution_count": 48,
   "id": "482285b9",
   "metadata": {},
   "outputs": [
    {
     "name": "stderr",
     "output_type": "stream",
     "text": [
      "Moyenne des données : 0.340717\n",
      "Qui.sont.les.Néréides..: 0.190294 est trop faible\n",
      "Qui.sont.les.Perséides..: 0.187388 est trop faible\n",
      "Que.sont.Charybde.et.Sylla..: 0.115012 est trop faible\n",
      "Voici les index que vous devriez garder : \n"
     ]
    },
    {
     "name": "stdout",
     "output_type": "stream",
     "text": [
      " [1]  2  4  5  6  8 11 12 13 14 15 16 17 20 23 24\n"
     ]
    }
   ],
   "source": [
    "dsc <- descript(reponses)\n",
    "count <- 1\n",
    "idxToKeep = c()\n",
    "message(sprintf(\"Moyenne des données : %f\", mean(dsc$ExBisCorr)))\n",
    "for(i in names(reponses)) {\n",
    "    if(dsc$ExBisCorr[count] < mean(dsc$ExBisCorr) * 2/3) {\n",
    "        message(sprintf(\"%s: %f est trop faible\", i, dsc$ExBisCorr[count]))\n",
    "    }\n",
    "    else {\n",
    "        idxToKeep = append(idxToKeep, baseIndex[count])\n",
    "    }\n",
    "    count <- count + 1\n",
    "}\n",
    "message(\"Voici les index que vous devriez garder : \")\n",
    "print(idxToKeep)"
   ]
  },
  {
   "cell_type": "code",
   "execution_count": 52,
   "id": "4ca106b0",
   "metadata": {},
   "outputs": [],
   "source": [
    "reponses2 <- read.csv2(\"../../../R/data/qcm_2_4_5_6_8_11_12_13_14_15_16_17_20_23_24.csv\")"
   ]
  },
  {
   "cell_type": "code",
   "execution_count": 56,
   "id": "8600f3bf",
   "metadata": {},
   "outputs": [
    {
     "data": {
      "text/plain": [
       "\n",
       "Bootstrap Goodness-of-Fit using Pearson chi-squared\n",
       "\n",
       "Call:\n",
       "rasch(data = reponses2, start.val = \"random\")\n",
       "\n",
       "Tobs: 23814.41 \n",
       "# data-sets: 50 \n",
       "p-value: 0.8 \n"
      ]
     },
     "metadata": {},
     "output_type": "display_data"
    }
   ],
   "source": [
    "IRT_1pl2 <- rasch(reponses2,start.val=\"random\")\n",
    "GoF.rasch(IRT_1pl2)"
   ]
  }
 ],
 "metadata": {
  "kernelspec": {
   "display_name": "R",
   "language": "R",
   "name": "ir"
  },
  "language_info": {
   "codemirror_mode": "r",
   "file_extension": ".r",
   "mimetype": "text/x-r-source",
   "name": "R",
   "pygments_lexer": "r",
   "version": "3.6.1"
  }
 },
 "nbformat": 4,
 "nbformat_minor": 5
}
