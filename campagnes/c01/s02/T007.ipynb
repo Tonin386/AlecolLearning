{
 "cells": [
  {
   "cell_type": "code",
   "execution_count": 2,
   "id": "b84360f0",
   "metadata": {},
   "outputs": [],
   "source": [
    "library(ltm)"
   ]
  },
  {
   "cell_type": "code",
   "execution_count": 3,
   "id": "af4341e1",
   "metadata": {},
   "outputs": [],
   "source": [
    "reponses <- read.csv2(\"../../../R/data/qcm_2_4_5_6_7_8_11_12_13_14_15_16_17_19_20_22_23_24.csv\")"
   ]
  },
  {
   "cell_type": "code",
   "execution_count": 4,
   "id": "0eb26a52",
   "metadata": {},
   "outputs": [],
   "source": [
    "IRT_1pl <- rasch(reponses, IRT.param = TRUE)\n",
    "IRT_4pl <- grm(reponses,IRT.param = TRUE)"
   ]
  },
  {
   "cell_type": "code",
   "execution_count": 5,
   "id": "2e326b23",
   "metadata": {},
   "outputs": [],
   "source": [
    "u1 <- unidimTest(IRT_1pl)"
   ]
  },
  {
   "cell_type": "code",
   "execution_count": 6,
   "id": "5e8cf329",
   "metadata": {},
   "outputs": [
    {
     "ename": "ERROR",
     "evalue": "Error in unidimTest(IRT_4pl): Use only with 'ltm', 'rasch' or 'tpm' objects.\n\n",
     "output_type": "error",
     "traceback": [
      "Error in unidimTest(IRT_4pl): Use only with 'ltm', 'rasch' or 'tpm' objects.\n\nTraceback:\n",
      "1. unidimTest(IRT_4pl)",
      "2. stop(\"Use only with 'ltm', 'rasch' or 'tpm' objects.\\n\")"
     ]
    }
   ],
   "source": [
    "u4 <- unidimTest(IRT_4pl) #ah"
   ]
  },
  {
   "cell_type": "code",
   "execution_count": 7,
   "id": "ec1cf858",
   "metadata": {},
   "outputs": [
    {
     "data": {
      "text/html": [
       "0.158415841584158"
      ],
      "text/latex": [
       "0.158415841584158"
      ],
      "text/markdown": [
       "0.158415841584158"
      ],
      "text/plain": [
       "[1] 0.1584158"
      ]
     },
     "metadata": {},
     "output_type": "display_data"
    }
   ],
   "source": [
    "u1$p.value"
   ]
  },
  {
   "cell_type": "code",
   "execution_count": null,
   "id": "7d596f37",
   "metadata": {},
   "outputs": [],
   "source": [
    "u4$p.value"
   ]
  }
 ],
 "metadata": {
  "kernelspec": {
   "display_name": "R",
   "language": "R",
   "name": "ir"
  },
  "language_info": {
   "codemirror_mode": "r",
   "file_extension": ".r",
   "mimetype": "text/x-r-source",
   "name": "R",
   "pygments_lexer": "r",
   "version": "3.6.1"
  }
 },
 "nbformat": 4,
 "nbformat_minor": 5
}
