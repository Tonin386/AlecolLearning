{
 "cells": [
  {
   "cell_type": "markdown",
   "id": "7532dd42",
   "metadata": {},
   "source": [
    "# Hypothèse :\n",
    "\n",
    "### Le modèle à deux paramètres (ltm) est plus adapté pour le jeu de questions que le modèle de Rasch"
   ]
  },
  {
   "cell_type": "code",
   "execution_count": 2,
   "id": "eea2bdbc",
   "metadata": {},
   "outputs": [],
   "source": [
    "library(ltm)"
   ]
  },
  {
   "cell_type": "code",
   "execution_count": 9,
   "id": "e81ebb24",
   "metadata": {},
   "outputs": [],
   "source": [
    "reponses <- read.csv2(\"../../../R/data/qcm_2_4_5_6_7_8_11_12_13_14_15_16_17_19_20_22_23_24.csv\")"
   ]
  },
  {
   "cell_type": "code",
   "execution_count": 10,
   "id": "98313cb4",
   "metadata": {},
   "outputs": [],
   "source": [
    "IRT_1pl <- rasch(reponses, IRT.param = TRUE)\n",
    "IRT_2pl <- ltm(reponses~z1,IRT.param = TRUE)"
   ]
  },
  {
   "cell_type": "code",
   "execution_count": 13,
   "id": "277e6b91",
   "metadata": {},
   "outputs": [],
   "source": [
    "u1 <- unidimTest(IRT_1pl) #Cette fonction met beaucoup de temps à s'exécuter"
   ]
  },
  {
   "cell_type": "code",
   "execution_count": 14,
   "id": "b1029d26",
   "metadata": {},
   "outputs": [],
   "source": [
    "u2 <- unidimTest(IRT_2pl) #Et donc celle-là aussi"
   ]
  },
  {
   "cell_type": "markdown",
   "id": "18b6ef59",
   "metadata": {},
   "source": [
    "### Résultats"
   ]
  },
  {
   "cell_type": "code",
   "execution_count": 15,
   "id": "df9f100d",
   "metadata": {},
   "outputs": [
    {
     "data": {
      "text/html": [
       "0.198019801980198"
      ],
      "text/latex": [
       "0.198019801980198"
      ],
      "text/markdown": [
       "0.198019801980198"
      ],
      "text/plain": [
       "[1] 0.1980198"
      ]
     },
     "metadata": {},
     "output_type": "display_data"
    }
   ],
   "source": [
    "u1$p.value"
   ]
  },
  {
   "cell_type": "code",
   "execution_count": 16,
   "id": "cc13e0df",
   "metadata": {},
   "outputs": [
    {
     "data": {
      "text/html": [
       "0.465346534653465"
      ],
      "text/latex": [
       "0.465346534653465"
      ],
      "text/markdown": [
       "0.465346534653465"
      ],
      "text/plain": [
       "[1] 0.4653465"
      ]
     },
     "metadata": {},
     "output_type": "display_data"
    }
   ],
   "source": [
    "u2$p.value"
   ]
  },
  {
   "cell_type": "markdown",
   "id": "d031b8a3",
   "metadata": {},
   "source": [
    "La p.value du modèle à deux paramètres est plus grande que celle du modèle de Rasch, signifiant que le modèle est plus fiable.\n",
    "\n",
    "## HYPOTHESE VALIDEE"
   ]
  }
 ],
 "metadata": {
  "kernelspec": {
   "display_name": "R",
   "language": "R",
   "name": "ir"
  },
  "language_info": {
   "codemirror_mode": "r",
   "file_extension": ".r",
   "mimetype": "text/x-r-source",
   "name": "R",
   "pygments_lexer": "r",
   "version": "3.6.1"
  }
 },
 "nbformat": 4,
 "nbformat_minor": 5
}
