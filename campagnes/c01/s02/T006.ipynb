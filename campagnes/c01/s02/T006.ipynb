{
 "cells": [
  {
   "cell_type": "markdown",
   "id": "1b2376c8",
   "metadata": {},
   "source": [
    "# Hypothèse :\n",
    "\n",
    "### Le modèle à trois paramètres (tpm) est plus adapté pour le jeu de questions que le modèle de Rasch"
   ]
  },
  {
   "cell_type": "code",
   "execution_count": 2,
   "id": "21ed2eb5",
   "metadata": {},
   "outputs": [],
   "source": [
    "library(ltm)"
   ]
  },
  {
   "cell_type": "code",
   "execution_count": 3,
   "id": "7d850630",
   "metadata": {},
   "outputs": [],
   "source": [
    "reponses <- read.csv2(\"../../../R/data/qcm_2_4_5_6_7_8_11_12_13_14_15_16_17_19_20_22_23_24.csv\")"
   ]
  },
  {
   "cell_type": "code",
   "execution_count": 5,
   "id": "914c908b",
   "metadata": {},
   "outputs": [],
   "source": [
    "IRT_1pl <- rasch(reponses, IRT.param = TRUE)\n",
    "IRT_3pl <- tpm(reponses,IRT.param = TRUE)"
   ]
  },
  {
   "cell_type": "code",
   "execution_count": 6,
   "id": "b638d914",
   "metadata": {},
   "outputs": [],
   "source": [
    "u1 <- unidimTest(IRT_1pl)"
   ]
  },
  {
   "cell_type": "code",
   "execution_count": 7,
   "id": "1674611f",
   "metadata": {},
   "outputs": [
    {
     "name": "stderr",
     "output_type": "stream",
     "text": [
      "Warning message in optimise(f, interval = c(-maxcor, maxcor)):\n",
      "\"NA / Inf remplacé par la valeur maximale positive\""
     ]
    }
   ],
   "source": [
    "u3 <- unidimTest(IRT_3pl)"
   ]
  },
  {
   "cell_type": "markdown",
   "id": "2611b69d",
   "metadata": {},
   "source": [
    "### Résultats"
   ]
  },
  {
   "cell_type": "code",
   "execution_count": 8,
   "id": "709c4b75",
   "metadata": {},
   "outputs": [
    {
     "data": {
      "text/html": [
       "0.128712871287129"
      ],
      "text/latex": [
       "0.128712871287129"
      ],
      "text/markdown": [
       "0.128712871287129"
      ],
      "text/plain": [
       "[1] 0.1287129"
      ]
     },
     "metadata": {},
     "output_type": "display_data"
    }
   ],
   "source": [
    "u1$p.value"
   ]
  },
  {
   "cell_type": "code",
   "execution_count": 9,
   "id": "8c06dd6e",
   "metadata": {},
   "outputs": [
    {
     "data": {
      "text/html": [
       "0.475247524752475"
      ],
      "text/latex": [
       "0.475247524752475"
      ],
      "text/markdown": [
       "0.475247524752475"
      ],
      "text/plain": [
       "[1] 0.4752475"
      ]
     },
     "metadata": {},
     "output_type": "display_data"
    }
   ],
   "source": [
    "u3$p.value"
   ]
  },
  {
   "cell_type": "markdown",
   "id": "6435a3e5",
   "metadata": {},
   "source": [
    "La p.value du modèle à deux paramètres est plus grande que celle du modèle de Rasch, signifiant que le modèle est plus fiable.\n",
    "\n",
    "## HYPOTHESE VALIDEE"
   ]
  }
 ],
 "metadata": {
  "kernelspec": {
   "display_name": "R",
   "language": "R",
   "name": "ir"
  },
  "language_info": {
   "codemirror_mode": "r",
   "file_extension": ".r",
   "mimetype": "text/x-r-source",
   "name": "R",
   "pygments_lexer": "r",
   "version": "3.6.1"
  }
 },
 "nbformat": 4,
 "nbformat_minor": 5
}
