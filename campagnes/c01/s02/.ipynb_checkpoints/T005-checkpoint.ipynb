{
 "cells": [
  {
   "cell_type": "code",
   "execution_count": 2,
   "id": "3111bce3",
   "metadata": {},
   "outputs": [],
   "source": [
    "library(ltm)"
   ]
  },
  {
   "cell_type": "code",
   "execution_count": 9,
   "id": "7e6bc2b9",
   "metadata": {},
   "outputs": [],
   "source": [
    "reponses <- read.csv2(\"../../../R/data/qcm_2_4_5_6_7_8_11_12_13_14_15_16_17_19_20_22_23_24.csv\")"
   ]
  },
  {
   "cell_type": "code",
   "execution_count": 10,
   "id": "2465d223",
   "metadata": {},
   "outputs": [],
   "source": [
    "IRT_1pl <- rasch(reponses, IRT.param = TRUE)\n",
    "IRT_2pl <- ltm(reponses~z1,IRT.param = TRUE)"
   ]
  },
  {
   "cell_type": "code",
   "execution_count": null,
   "id": "563ab60c",
   "metadata": {},
   "outputs": [],
   "source": [
    "u1 <- unidimTest(IRT_1pl) #Cette fonction met beaucoup de temps à s'exécuter"
   ]
  },
  {
   "cell_type": "code",
   "execution_count": null,
   "id": "6d101879",
   "metadata": {},
   "outputs": [],
   "source": [
    "u2 <- unidimTest(IRT_2pl) #Et donc celle-là aussi"
   ]
  },
  {
   "cell_type": "code",
   "execution_count": null,
   "id": "ad128441",
   "metadata": {},
   "outputs": [],
   "source": []
  }
 ],
 "metadata": {
  "kernelspec": {
   "display_name": "R",
   "language": "R",
   "name": "ir"
  },
  "language_info": {
   "codemirror_mode": "r",
   "file_extension": ".r",
   "mimetype": "text/x-r-source",
   "name": "R",
   "pygments_lexer": "r",
   "version": "3.6.1"
  }
 },
 "nbformat": 4,
 "nbformat_minor": 5
}
