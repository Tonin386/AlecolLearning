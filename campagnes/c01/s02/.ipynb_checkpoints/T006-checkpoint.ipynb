{
 "cells": [
  {
   "cell_type": "code",
   "execution_count": null,
   "id": "21ed2eb5",
   "metadata": {},
   "outputs": [],
   "source": [
    "library(ltm)"
   ]
  },
  {
   "cell_type": "code",
   "execution_count": null,
   "id": "77cd8a57",
   "metadata": {},
   "outputs": [],
   "source": [
    "reponses <- read.csv2(\"../../../R/data/qcm_2_4_5_6_7_8_11_12_13_14_15_16_17_19_20_22_23_24.csv\")"
   ]
  },
  {
   "cell_type": "code",
   "execution_count": null,
   "id": "a97e638e",
   "metadata": {},
   "outputs": [],
   "source": [
    "IRT_1pl <- rasch(reponses, IRT.param = TRUE)\n",
    "IRT_3pl <- tpm(reponses~z1,IRT.param = TRUE)"
   ]
  },
  {
   "cell_type": "code",
   "execution_count": null,
   "id": "34aba14a",
   "metadata": {},
   "outputs": [],
   "source": [
    "u1 <- unidimTest(IRT_1pl)"
   ]
  },
  {
   "cell_type": "code",
   "execution_count": null,
   "id": "d5679fc4",
   "metadata": {},
   "outputs": [],
   "source": [
    "u3 <- unidimTest(IRT_3pl)"
   ]
  },
  {
   "cell_type": "code",
   "execution_count": null,
   "id": "6c8c2436",
   "metadata": {},
   "outputs": [],
   "source": [
    "u1$p.value"
   ]
  },
  {
   "cell_type": "code",
   "execution_count": null,
   "id": "d1f8f35f",
   "metadata": {},
   "outputs": [],
   "source": [
    "u3$p.value"
   ]
  }
 ],
 "metadata": {
  "kernelspec": {
   "display_name": "R",
   "language": "R",
   "name": "ir"
  },
  "language_info": {
   "codemirror_mode": "r",
   "file_extension": ".r",
   "mimetype": "text/x-r-source",
   "name": "R",
   "pygments_lexer": "r",
   "version": "3.6.1"
  }
 },
 "nbformat": 4,
 "nbformat_minor": 5
}
