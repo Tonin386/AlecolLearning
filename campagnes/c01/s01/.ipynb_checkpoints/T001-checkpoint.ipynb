{
 "cells": [
  {
   "cell_type": "code",
   "execution_count": 2,
   "id": "99684c28",
   "metadata": {
    "scrolled": true
   },
   "outputs": [],
   "source": [
    "library(ltm)"
   ]
  },
  {
   "cell_type": "code",
   "execution_count": 5,
   "id": "2affabf9",
   "metadata": {
    "scrolled": true
   },
   "outputs": [],
   "source": [
    "reponses <- read.csv2(\"../../../R/data/qcm.csv\")"
   ]
  },
  {
   "cell_type": "code",
   "execution_count": 83,
   "id": "d1f90148",
   "metadata": {
    "scrolled": false
   },
   "outputs": [
    {
     "name": "stderr",
     "output_type": "stream",
     "text": [
      "Pour.quoi.Hercule.est.il.cÃ.lÃ.bre.. a trop de bonnes réponses\n",
      "Qui.est.l.Ã.quivalent.grec.de.Mars.. a trop de bonnes réponses\n",
      "Qui.est.la.dÃ.esse.de.la.beautÃ... a trop de bonnes réponses\n",
      "Qui.est.le.dieu.de.la.mer.. a trop de bonnes réponses\n",
      "Qui.est.l.Ã.quivalent.romain.de.Zeus.. a trop de bonnes réponses\n",
      "Qui.est.l.Ã.pouse.de.Zeus.. a trop de bonnes réponses\n"
     ]
    },
    {
     "name": "stdout",
     "output_type": "stream",
     "text": [
      "[1] \"Voici les index que vous devriez garder : \"\n",
      " [1]  2  4  5  6  7  8 11 12 13 14 15 16 17 19 20 22 23 24\n"
     ]
    }
   ],
   "source": [
    "dsc<-descript(reponses)\n",
    "count <- 0\n",
    "indexToKeep = c()\n",
    "for(i in names(dsc$perc)) {\n",
    "    count <- count + 1\n",
    "    if(dsc$perc[[i]][[\"1\"]] > 0.9) { \n",
    "        message(sprintf(\"%s a trop de bonnes réponses\", i))\n",
    "    }\n",
    "    else {\n",
    "        indexToKeep = append(indexToKeep, count)\n",
    "    }\n",
    "}\n",
    "message(\"Voici les index que vous devriez garder : \")\n",
    "message(indexToKeep)"
   ]
  },
  {
   "cell_type": "code",
   "execution_count": 40,
   "id": "eb0540ac",
   "metadata": {},
   "outputs": [
    {
     "ename": "ERROR",
     "evalue": "Error in parse(text = x, srcfile = src): <text>:2:0: unexpected end of input\n1: dsc$perc[2]$\n   ^\n",
     "output_type": "error",
     "traceback": [
      "Error in parse(text = x, srcfile = src): <text>:2:0: unexpected end of input\n1: dsc$perc[2]$\n   ^\nTraceback:\n"
     ]
    }
   ],
   "source": []
  }
 ],
 "metadata": {
  "kernelspec": {
   "display_name": "R",
   "language": "R",
   "name": "ir"
  },
  "language_info": {
   "codemirror_mode": "r",
   "file_extension": ".r",
   "mimetype": "text/x-r-source",
   "name": "R",
   "pygments_lexer": "r",
   "version": "3.6.1"
  }
 },
 "nbformat": 4,
 "nbformat_minor": 5
}
