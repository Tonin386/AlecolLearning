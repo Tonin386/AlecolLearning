{
 "cells": [
  {
   "cell_type": "markdown",
   "id": "b09da0dd",
   "metadata": {},
   "source": [
    "# Hypothèse : \n",
    "### Retirer les questions avec un taux de bonnes réponses < 25% améliore les résultats"
   ]
  },
  {
   "cell_type": "code",
   "execution_count": 2,
   "id": "b090f902",
   "metadata": {
    "scrolled": true
   },
   "outputs": [],
   "source": [
    "library(ltm)"
   ]
  },
  {
   "cell_type": "code",
   "execution_count": 3,
   "id": "df79eb24",
   "metadata": {
    "scrolled": true
   },
   "outputs": [],
   "source": [
    "reponses <- read.csv2(\"../../../R/data/qcm.csv\")"
   ]
  },
  {
   "cell_type": "code",
   "execution_count": 4,
   "id": "e033999a",
   "metadata": {},
   "outputs": [
    {
     "data": {
      "text/plain": [
       "\n",
       "Bootstrap Goodness-of-Fit using Pearson chi-squared\n",
       "\n",
       "Call:\n",
       "rasch(data = reponses, start.val = \"random\")\n",
       "\n",
       "Tobs: 25532034 \n",
       "# data-sets: 50 \n",
       "p-value: 0.04 \n"
      ]
     },
     "metadata": {},
     "output_type": "display_data"
    }
   ],
   "source": [
    "IRT_1pl <- rasch(reponses,start.val=\"random\")\n",
    "GoF.rasch(IRT_1pl) #On regarde la qualité du modèle avec toutes les questions"
   ]
  },
  {
   "cell_type": "markdown",
   "id": "bc203860",
   "metadata": {},
   "source": [
    "### Résultat de la fonction GoF.rasch()\n",
    "On voit que l'on obtent p-value < 0.05 ce qui nous indique que notre modèle n'est pas précis. \n",
    "On va donc voir si on peut affiner les résultats en triant les questions.\n",
    "On décide de ne garder que les questions où le taux de bonnes réponses est inférieur à 90%."
   ]
  },
  {
   "cell_type": "code",
   "execution_count": 5,
   "id": "60622d31",
   "metadata": {
    "scrolled": true
   },
   "outputs": [
    {
     "name": "stderr",
     "output_type": "stream",
     "text": [
      "Qui.est.Eros n'a pas assez de bonnes réponses\n",
      "Qui.est.la.muse.de.la.danse.. n'a pas assez de bonnes réponses\n",
      "Qui.sont.les.PersÃ.ides.. n'a pas assez de bonnes réponses\n",
      "Voici les index que vous devriez garder : \n"
     ]
    },
    {
     "name": "stdout",
     "output_type": "stream",
     "text": [
      " [1]  1  2  3  5  6  7  9 10 11 12 13 14 15 16 17 18 20 21 22 23 24\n"
     ]
    }
   ],
   "source": [
    "dsc<-descript(reponses)\n",
    "count <- 0\n",
    "indexToKeep = c()\n",
    "for(i in names(dsc$perc)) {\n",
    "    count <- count + 1\n",
    "    if(dsc$perc[[i]][[\"1\"]] < 0.25) { \n",
    "        message(sprintf(\"%s n'a pas assez de bonnes réponses\", i))\n",
    "    }\n",
    "    else {\n",
    "        indexToKeep = append(indexToKeep, count)\n",
    "    }\n",
    "}\n",
    "message(\"Voici les index que vous devriez garder : \")\n",
    "print(indexToKeep)"
   ]
  },
  {
   "cell_type": "markdown",
   "id": "8d020dd6",
   "metadata": {},
   "source": [
    "### Interprétation\n",
    "Dans la cellule précédente on obtient une liste des questions à conserver pour la suite du test.\n",
    "On utilise le fichier \"script.py\" pour créer le fichier : \"qcm_1_2_3_5_6_7_9_10_11_12_13_14_15_16_17_18_20_21_22_23_24.csv\" qui contient le nouveau jeu de questions du test."
   ]
  },
  {
   "cell_type": "code",
   "execution_count": 6,
   "id": "202b7a5b",
   "metadata": {},
   "outputs": [],
   "source": [
    "reponses2 <- read.csv2(\"../../../R/data/qcm_1_2_3_5_6_7_9_10_11_12_13_14_15_16_17_18_20_21_22_23_24.csv\")"
   ]
  },
  {
   "cell_type": "code",
   "execution_count": 7,
   "id": "0db089ff",
   "metadata": {},
   "outputs": [
    {
     "data": {
      "text/plain": [
       "\n",
       "Bootstrap Goodness-of-Fit using Pearson chi-squared\n",
       "\n",
       "Call:\n",
       "rasch(data = reponses2, start.val = \"random\")\n",
       "\n",
       "Tobs: 4706964 \n",
       "# data-sets: 50 \n",
       "p-value: 0.08 \n"
      ]
     },
     "metadata": {},
     "output_type": "display_data"
    }
   ],
   "source": [
    "IRT_1pl2 <- rasch(reponses2,start.val=\"random\")\n",
    "GoF.rasch(IRT_1pl2) #On regarde la qualité du modèle avec les nouvelles questions"
   ]
  },
  {
   "cell_type": "markdown",
   "id": "fb5ab674",
   "metadata": {},
   "source": [
    "# Résultats du test\n",
    "On voit que l'on obtent p-value > 0.05 ce qui nous indique que notre modèle est un peu plus précis. \n",
    "Cela confirme l'hypothèse que l'analyse du test est meilleure si l'on supprime les questions avec un faible taux de bonnes réponses.\n",
    "\n",
    "## HYPOTHESE INITIALE VALIDEE"
   ]
  }
 ],
 "metadata": {
  "kernelspec": {
   "display_name": "R",
   "language": "R",
   "name": "ir"
  },
  "language_info": {
   "codemirror_mode": "r",
   "file_extension": ".r",
   "mimetype": "text/x-r-source",
   "name": "R",
   "pygments_lexer": "r",
   "version": "3.6.1"
  }
 },
 "nbformat": 4,
 "nbformat_minor": 5
}
