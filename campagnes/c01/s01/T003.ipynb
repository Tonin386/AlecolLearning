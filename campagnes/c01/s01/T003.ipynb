{
 "cells": [
  {
   "cell_type": "markdown",
   "id": "b09da0dd",
   "metadata": {},
   "source": [
    "# Hypothèse : \n",
    "### Garder les questions avec un taux de bonnes réponses 25% < f < 90% améliore les résultats"
   ]
  },
  {
   "cell_type": "code",
   "execution_count": 3,
   "id": "b090f902",
   "metadata": {
    "scrolled": true
   },
   "outputs": [],
   "source": [
    "library(ltm)"
   ]
  },
  {
   "cell_type": "code",
   "execution_count": 4,
   "id": "df79eb24",
   "metadata": {
    "scrolled": true
   },
   "outputs": [],
   "source": [
    "reponses <- read.csv2(\"../../../R/data/qcm.csv\")"
   ]
  },
  {
   "cell_type": "code",
   "execution_count": 5,
   "id": "e033999a",
   "metadata": {},
   "outputs": [
    {
     "data": {
      "text/plain": [
       "\n",
       "Bootstrap Goodness-of-Fit using Pearson chi-squared\n",
       "\n",
       "Call:\n",
       "rasch(data = reponses, start.val = \"random\")\n",
       "\n",
       "Tobs: 25545852 \n",
       "# data-sets: 50 \n",
       "p-value: 0.04 \n"
      ]
     },
     "metadata": {},
     "output_type": "display_data"
    }
   ],
   "source": [
    "IRT_1pl <- rasch(reponses,start.val=\"random\")\n",
    "GoF.rasch(IRT_1pl) #On regarde la qualité du modèle avec toutes les questions"
   ]
  },
  {
   "cell_type": "markdown",
   "id": "bc203860",
   "metadata": {},
   "source": [
    "### Résultat de la fonction GoF.rasch()\n",
    "On voit que l'on obtent p-value < 0.05 ce qui nous indique que notre modèle n'est pas précis. \n",
    "On va donc voir si on peut affiner les résultats en triant les questions.\n",
    "On décide de ne garder que les questions où le taux de bonnes réponses est inférieur à 90%."
   ]
  },
  {
   "cell_type": "code",
   "execution_count": 9,
   "id": "60622d31",
   "metadata": {
    "scrolled": true
   },
   "outputs": [
    {
     "name": "stderr",
     "output_type": "stream",
     "text": [
      "Pour.quoi.Hercule.est.il.cÃ.lÃ.bre.. n'a pas un taux de bonnes réponses satisfaisant\n",
      "Qui.est.l.Ã.quivalent.grec.de.Mars.. n'a pas un taux de bonnes réponses satisfaisant\n",
      "Qui.est.Eros n'a pas un taux de bonnes réponses satisfaisant\n",
      "Qui.est.la.muse.de.la.danse.. n'a pas un taux de bonnes réponses satisfaisant\n",
      "Qui.est.la.dÃ.esse.de.la.beautÃ... n'a pas un taux de bonnes réponses satisfaisant\n",
      "Qui.est.le.dieu.de.la.mer.. n'a pas un taux de bonnes réponses satisfaisant\n",
      "Qui.est.l.Ã.quivalent.romain.de.Zeus.. n'a pas un taux de bonnes réponses satisfaisant\n",
      "Qui.sont.les.PersÃ.ides.. n'a pas un taux de bonnes réponses satisfaisant\n",
      "Qui.est.l.Ã.pouse.de.Zeus.. n'a pas un taux de bonnes réponses satisfaisant\n",
      "Voici les index que vous devriez garder : \n"
     ]
    },
    {
     "name": "stdout",
     "output_type": "stream",
     "text": [
      " [1]  2  5  6  7 11 12 13 14 15 16 17 20 22 23 24\n"
     ]
    }
   ],
   "source": [
    "dsc<-descript(reponses)\n",
    "count <- 0\n",
    "indexToKeep = c()\n",
    "for(i in names(dsc$perc)) {\n",
    "    count <- count + 1\n",
    "    if(dsc$perc[[i]][[\"1\"]] < 0.25 | dsc$perc[[i]][[\"1\"]] > 0.9) { \n",
    "        message(sprintf(\"%s n'a pas un taux de bonnes réponses satisfaisant\", i))\n",
    "    }\n",
    "    else {\n",
    "        indexToKeep = append(indexToKeep, count)\n",
    "    }\n",
    "}\n",
    "message(\"Voici les index que vous devriez garder : \")\n",
    "print(indexToKeep)"
   ]
  },
  {
   "cell_type": "markdown",
   "id": "8d020dd6",
   "metadata": {},
   "source": [
    "### Interprétation\n",
    "Dans la cellule précédente on obtient une liste des questions à conserver pour la suite du test.\n",
    "On utilise le fichier \"script.py\" pour créer le fichier : \"qcm_2_5_6_7_11_12_13_14_15_16_17_20_22_23_24.csv\" qui contient le nouveau jeu de questions du test."
   ]
  },
  {
   "cell_type": "code",
   "execution_count": 10,
   "id": "202b7a5b",
   "metadata": {},
   "outputs": [],
   "source": [
    "reponses2 <- read.csv2(\"../../../R/data/qcm_2_5_6_7_11_12_13_14_15_16_17_20_22_23_24.csv\")"
   ]
  },
  {
   "cell_type": "code",
   "execution_count": 11,
   "id": "0db089ff",
   "metadata": {},
   "outputs": [
    {
     "data": {
      "text/plain": [
       "\n",
       "Bootstrap Goodness-of-Fit using Pearson chi-squared\n",
       "\n",
       "Call:\n",
       "rasch(data = reponses2, start.val = \"random\")\n",
       "\n",
       "Tobs: 28806.81 \n",
       "# data-sets: 50 \n",
       "p-value: 0.78 \n"
      ]
     },
     "metadata": {},
     "output_type": "display_data"
    }
   ],
   "source": [
    "IRT_1pl2 <- rasch(reponses2,start.val=\"random\")\n",
    "GoF.rasch(IRT_1pl2) #On regarde la qualité du modèle avec les nouvelles questions"
   ]
  },
  {
   "cell_type": "markdown",
   "id": "fb5ab674",
   "metadata": {},
   "source": [
    "# Résultats du test\n",
    "On voit que l'on obtent p-value >> 0.05 ce qui nous indique que notre modèle est beaucoup plus précis. \n",
    "Cela confirme l'hypothèse que l'analyse du test est meilleure si l'on supprime les questions avec un faible taux de bonnes réponses.\n",
    "\n",
    "## HYPOTHESE INITIALE VALIDEE"
   ]
  }
 ],
 "metadata": {
  "kernelspec": {
   "display_name": "R",
   "language": "R",
   "name": "ir"
  },
  "language_info": {
   "codemirror_mode": "r",
   "file_extension": ".r",
   "mimetype": "text/x-r-source",
   "name": "R",
   "pygments_lexer": "r",
   "version": "3.6.1"
  }
 },
 "nbformat": 4,
 "nbformat_minor": 5
}
