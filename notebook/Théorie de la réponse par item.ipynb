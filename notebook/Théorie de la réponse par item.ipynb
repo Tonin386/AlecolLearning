{
 "cells": [
  {
   "cell_type": "code",
   "execution_count": 1,
   "metadata": {},
   "outputs": [
    {
     "name": "stdout",
     "output_type": "stream",
     "text": [
      "[0. 1. 2. 3. 4. 5. 6. 7. 8. 9.]\n"
     ]
    }
   ],
   "source": [
    "from pprint import pprint\n",
    "import matplotlib.pyplot as plt\n",
    "import numpy as np\n",
    "import random\n",
    "\n",
    "existing_skill_levels = np.arange(0,10,1, dtype=float)\n",
    "print(existing_skill_levels)\n",
    "# 0 représente une compétence très peu développée, 9 une maîtrise absolue "
   ]
  },
  {
   "cell_type": "code",
   "execution_count": 2,
   "metadata": {},
   "outputs": [
    {
     "name": "stdout",
     "output_type": "stream",
     "text": [
      "{'a': 3.0, 'b': 9.0, 'c': 2.0, 'd': 4.0, 'e': 4.0}\n"
     ]
    }
   ],
   "source": [
    "#Un skill level est le niveau théta dans une compétence\n",
    "#Dans la réalité, il n'est pas connu et c'est lui que l'on doit établir. \n",
    "#Cependant, on l'utilise ici simplement pour jouer le rôle de l'utilisateur \n",
    "#qui ne choisira PAS les réponses d'une matière aléatoire dans une situation réelle.\n",
    "skill_levels = {\n",
    "    \"a\": random.choice(existing_skill_levels),\n",
    "    \"b\": random.choice(existin0.4634932g_skill_levels),\n",
    "    \"c\": random.choice(existing_skill_levels),\n",
    "    \"d\": random.choice(existing_skill_levels),\n",
    "    \"e\": random.choice(existing_skill_levels)\n",
    "}\n",
    "pprint(skill_levels)"
   ]
  },
  {
   "cell_type": "code",
   "execution_count": 47,
   "metadata": {},
   "outputs": [],
   "source": [
    "test_set = {\n",
    "\t\"easy\": { #Level 0-3\n",
    "\t\t\"a\":[0,3], #Les exercices 0 et 3 sont faciles au niveau de la compétence a\n",
    "\t\t\"b\":[0,4],\n",
    "\t\t\"c\":[1,2],\n",
    "\t\t\"d\":[4,5],\n",
    "\t\t\"e\":[1,3],\n",
    "\t},\n",
    "\n",
    "\t\"intermediate\": { #Level 4-6\n",
    "\t\t\"a\":[2,4],\n",
    "\t\t\"b\":[1,2],\n",
    "\t\t\"c\":[4,5],\n",
    "\t\t\"d\":[3,0],\n",
    "\t\t\"e\":[0,5],\n",
    "\t},\n",
    "\n",
    "\t\"hard\": { #Level 7-9\n",
    "\t\t\"a\":[1,5], #Les exercices 1 et 5 sont difficiles au niveau de la compétence a\n",
    "\t\t\"b\":[3,5],\n",
    "\t\t\"c\":[3,0],\n",
    "\t\t\"d\":[1,2],\n",
    "\t\t\"e\":[2,4],\n",
    "\t}\n",
    "\n",
    "}\n",
    "\n",
    "\n",
    "exercices = [\n",
    "    #format [a,b]\n",
    "    #a est le paramètre de discrimination sur un item\n",
    "    #b est la difficulté sur un item l'exercice\n",
    "    { #0\n",
    "    \"a\":[5,1],\n",
    "    \"b\":[5,1],\n",
    "    \"c\":[5,8],\n",
    "    \"d\":[5,6],\n",
    "    \"e\":[5,5],\n",
    "    },\n",
    "    { #1\n",
    "    \"a\":[5,8],\n",
    "    \"b\":[5,5],\n",
    "    \"c\":[5,1],\n",
    "    \"d\":[5,8],\n",
    "    \"e\":[5,2],\n",
    "    },\n",
    "    { #2\n",
    "    \"a\":[5,5],\n",
    "    \"b\":[5,6],\n",
    "    \"c\":[5,1],\n",
    "    \"d\":[5,7],\n",
    "    \"e\":[5,9],\n",
    "    },\n",
    "    { #3\n",
    "    \"a\":[5,1],\n",
    "    \"b\":[5,7],\n",
    "    \"c\":[5,9],\n",
    "    \"d\":[5,5],\n",
    "    \"e\":[5,3],\n",
    "    },\n",
    "    { #4\n",
    "    \"a\":[5,5],\n",
    "    \"b\":[5,2],\n",
    "    \"c\":[5,4],\n",
    "    \"d\":[5,1],\n",
    "    \"e\":[5,7],\n",
    "    },\n",
    "    { #5\n",
    "    \"a\":[5,7],\n",
    "    \"b\":[5,8],\n",
    "    \"c\":[5,5],\n",
    "    \"d\":[5,2],\n",
    "    \"e\":[5,4],\n",
    "    },\n",
    "]\n"
   ]
  },
  {
   "cell_type": "code",
   "execution_count": 5,
   "metadata": {},
   "outputs": [],
   "source": [
    "def evaluateProba(t, a, b):\n",
    "    return 1 / (1 + np.exp(a*(b-t)))"
   ]
  },
  {
   "cell_type": "code",
   "execution_count": 2,
   "metadata": {},
   "outputs": [],
   "source": [
    "def evaluateRasch(t, a, b):\n",
    "    return np.exp(t-b)/(1+np.exp(t-b))"
   ]
  },
  {
   "cell_type": "code",
   "execution_count": 158,
   "metadata": {},
   "outputs": [
    {
     "name": "stdout",
     "output_type": "stream",
     "text": [
      "{'a': 4.0, 'b': 9.0, 'c': 3.0, 'd': 9.0, 'e': 3.875}\n",
      "{'a': 3.0, 'b': 9.0, 'c': 2.0, 'd': 4.0, 'e': 4.0}\n"
     ]
    }
   ],
   "source": [
    "estimated_skill_levels = { #On veut que ce tableau tende vers \"skill_levels\"\n",
    "    \"a\": 4.,\n",
    "    \"b\": 4.,\n",
    "    \"c\": 4.,\n",
    "    \"d\": 4.,\n",
    "    \"e\": 4.\n",
    "}\n",
    "\n",
    "steps = 1\n",
    "\n",
    "for i in range(steps):\n",
    "    for exo in exercices:\n",
    "        for skill in exo.keys():\n",
    "            a = exo[skill][0]\n",
    "            b = exo[skill][1]\n",
    "            success = random.random() < evaluateProba(skill_levels[skill], a, b)\n",
    "            #print(\"Difficulté : %d | Niveau élève : %d | Chances de réussir : %.2f\" % (b, skill_levels[skill], evaluateProba(skill_levels[skill], a, b)))\n",
    "            #print(\"Niveau avant : %.f\" % estimated_skill_levels[skill])\n",
    "            if success:\n",
    "                estimated_skill_levels[skill] += np.abs((b-estimated_skill_levels[skill])/2)\n",
    "                if(estimated_skill_levels[skill] > 9):\n",
    "                    estimated_skill_levels[skill] = 9.\n",
    "            else:\n",
    "                if(estimated_skill_levels[skill] > b):\n",
    "                    estimated_skill_levels[skill] -= 1+(estimated_skill_levels[skill]-b)\n",
    "            \n",
    "            #print(\"Niveau après : %.f\" % estimated_skill_levels[skill])\n",
    "\n",
    "print(estimated_skill_levels)\n",
    "print(skill_levels)"
   ]
  },
  {
   "cell_type": "code",
   "execution_count": 3,
   "metadata": {},
   "outputs": [
    {
     "name": "stdout",
     "output_type": "stream",
     "text": [
      "[0.27]\n"
     ]
    },
    {
     "data": {
      "image/png": "[encoded data removed]",
      "text/plain": [
       "<Figure size 432x288 with 1 Axes>"
      ]
     },
     "metadata": {},
     "output_type": "display_data"
    }
   ],
   "source": [
    "t = np.arange(-4, 4, 0.01)\n",
    "t0 = np.zeros(len(t)) + 0.5\n",
    "a = 1.3707\n",
    "b = 0.2713\n",
    "f = evaluateRasch(t, a, b)\n",
    "plt.style.use('seaborn-whitegrid')\n",
    "plt.axes()\n",
    "#plt.plot(t, evaluateProba(t, a, b))\n",
    "plt.plot(t, f)\n",
    "plt.plot(t, t0)\n",
    "\n",
    "idx = np.argwhere(np.diff(np.sign(f - t0))).flatten()\n",
    "plt.axvline(x=t[idx], color='r')\n",
    "print(t[idx])\n",
    "plt.show()"
   ]
  },
  {
   "cell_type": "code",
   "execution_count": 4,
   "metadata": {},
   "outputs": [
    {
     "data": {
      "text/plain": [
       "2.6973"
      ]
     },
     "execution_count": 4,
     "metadata": {},
     "output_type": "execute_result"
    }
   ],
   "source": [
    "values = [-0.2447, 1.3707, -0.1657, -1.4273, -0.0082, 1.8899, 0.0705, -0.0870, 0.1889, 0.7627, -0.4848, 0.0311, -0.1656, 1.3706, 0.2687, -0.2845, -0.9492, -0.4043, 0.9655]\n",
    "np.mean(values)\n",
    "np.sum(values)"
   ]
  }
 ],
 "metadata": {
  "kernelspec": {
   "display_name": "Python 3",
   "language": "python",
   "name": "python3"
  },
  "language_info": {
   "codemirror_mode": {
    "name": "ipython",
    "version": 3
   },
   "file_extension": ".py",
   "mimetype": "text/x-python",
   "name": "python",
   "nbconvert_exporter": "python",
   "pygments_lexer": "ipython3",
   "version": "3.8.10"
  }
 },
 "nbformat": 4,
 "nbformat_minor": 4
}
